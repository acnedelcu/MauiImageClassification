{
  "nbformat": 4,
  "nbformat_minor": 0,
  "metadata": {
    "colab": {
      "provenance": [],
      "machine_shape": "hm",
      "gpuType": "A100"
    },
    "kernelspec": {
      "name": "python3",
      "display_name": "Python 3"
    },
    "language_info": {
      "name": "python"
    },
    "accelerator": "GPU"
  },
  "cells": [
    {
      "cell_type": "code",
      "execution_count": null,
      "metadata": {
        "colab": {
          "base_uri": "https://localhost:8080/"
        },
        "id": "K5Vw8TtJGBw2",
        "outputId": "12e69295-e4c8-494b-f7bd-f493f6ea1ca3"
      },
      "outputs": [
        {
          "output_type": "stream",
          "name": "stdout",
          "text": [
            "Requirement already satisfied: torch in /usr/local/lib/python3.10/dist-packages (2.3.0+cu121)\n",
            "Requirement already satisfied: torchvision in /usr/local/lib/python3.10/dist-packages (0.18.0+cu121)\n",
            "Requirement already satisfied: filelock in /usr/local/lib/python3.10/dist-packages (from torch) (3.14.0)\n",
            "Requirement already satisfied: typing-extensions>=4.8.0 in /usr/local/lib/python3.10/dist-packages (from torch) (4.12.1)\n",
            "Requirement already satisfied: sympy in /usr/local/lib/python3.10/dist-packages (from torch) (1.12.1)\n",
            "Requirement already satisfied: networkx in /usr/local/lib/python3.10/dist-packages (from torch) (3.3)\n",
            "Requirement already satisfied: jinja2 in /usr/local/lib/python3.10/dist-packages (from torch) (3.1.4)\n",
            "Requirement already satisfied: fsspec in /usr/local/lib/python3.10/dist-packages (from torch) (2023.6.0)\n",
            "Collecting nvidia-cuda-nvrtc-cu12==12.1.105 (from torch)\n",
            "  Using cached nvidia_cuda_nvrtc_cu12-12.1.105-py3-none-manylinux1_x86_64.whl (23.7 MB)\n",
            "Collecting nvidia-cuda-runtime-cu12==12.1.105 (from torch)\n",
            "  Using cached nvidia_cuda_runtime_cu12-12.1.105-py3-none-manylinux1_x86_64.whl (823 kB)\n",
            "Collecting nvidia-cuda-cupti-cu12==12.1.105 (from torch)\n",
            "  Using cached nvidia_cuda_cupti_cu12-12.1.105-py3-none-manylinux1_x86_64.whl (14.1 MB)\n",
            "Collecting nvidia-cudnn-cu12==8.9.2.26 (from torch)\n",
            "  Using cached nvidia_cudnn_cu12-8.9.2.26-py3-none-manylinux1_x86_64.whl (731.7 MB)\n",
            "Collecting nvidia-cublas-cu12==12.1.3.1 (from torch)\n",
            "  Using cached nvidia_cublas_cu12-12.1.3.1-py3-none-manylinux1_x86_64.whl (410.6 MB)\n",
            "Collecting nvidia-cufft-cu12==11.0.2.54 (from torch)\n",
            "  Using cached nvidia_cufft_cu12-11.0.2.54-py3-none-manylinux1_x86_64.whl (121.6 MB)\n",
            "Collecting nvidia-curand-cu12==10.3.2.106 (from torch)\n",
            "  Using cached nvidia_curand_cu12-10.3.2.106-py3-none-manylinux1_x86_64.whl (56.5 MB)\n",
            "Collecting nvidia-cusolver-cu12==11.4.5.107 (from torch)\n",
            "  Using cached nvidia_cusolver_cu12-11.4.5.107-py3-none-manylinux1_x86_64.whl (124.2 MB)\n",
            "Collecting nvidia-cusparse-cu12==12.1.0.106 (from torch)\n",
            "  Using cached nvidia_cusparse_cu12-12.1.0.106-py3-none-manylinux1_x86_64.whl (196.0 MB)\n",
            "Collecting nvidia-nccl-cu12==2.20.5 (from torch)\n",
            "  Using cached nvidia_nccl_cu12-2.20.5-py3-none-manylinux2014_x86_64.whl (176.2 MB)\n",
            "Collecting nvidia-nvtx-cu12==12.1.105 (from torch)\n",
            "  Using cached nvidia_nvtx_cu12-12.1.105-py3-none-manylinux1_x86_64.whl (99 kB)\n",
            "Requirement already satisfied: triton==2.3.0 in /usr/local/lib/python3.10/dist-packages (from torch) (2.3.0)\n",
            "Collecting nvidia-nvjitlink-cu12 (from nvidia-cusolver-cu12==11.4.5.107->torch)\n",
            "  Downloading nvidia_nvjitlink_cu12-12.5.40-py3-none-manylinux2014_x86_64.whl (21.3 MB)\n",
            "\u001b[2K     \u001b[90m━━━━━━━━━━━━━━━━━━━━━━━━━━━━━━━━━━━━━━━━\u001b[0m \u001b[32m21.3/21.3 MB\u001b[0m \u001b[31m67.3 MB/s\u001b[0m eta \u001b[36m0:00:00\u001b[0m\n",
            "\u001b[?25hRequirement already satisfied: numpy in /usr/local/lib/python3.10/dist-packages (from torchvision) (1.25.2)\n",
            "Requirement already satisfied: pillow!=8.3.*,>=5.3.0 in /usr/local/lib/python3.10/dist-packages (from torchvision) (9.4.0)\n",
            "Requirement already satisfied: MarkupSafe>=2.0 in /usr/local/lib/python3.10/dist-packages (from jinja2->torch) (2.1.5)\n",
            "Requirement already satisfied: mpmath<1.4.0,>=1.1.0 in /usr/local/lib/python3.10/dist-packages (from sympy->torch) (1.3.0)\n",
            "Installing collected packages: nvidia-nvtx-cu12, nvidia-nvjitlink-cu12, nvidia-nccl-cu12, nvidia-curand-cu12, nvidia-cufft-cu12, nvidia-cuda-runtime-cu12, nvidia-cuda-nvrtc-cu12, nvidia-cuda-cupti-cu12, nvidia-cublas-cu12, nvidia-cusparse-cu12, nvidia-cudnn-cu12, nvidia-cusolver-cu12\n",
            "Successfully installed nvidia-cublas-cu12-12.1.3.1 nvidia-cuda-cupti-cu12-12.1.105 nvidia-cuda-nvrtc-cu12-12.1.105 nvidia-cuda-runtime-cu12-12.1.105 nvidia-cudnn-cu12-8.9.2.26 nvidia-cufft-cu12-11.0.2.54 nvidia-curand-cu12-10.3.2.106 nvidia-cusolver-cu12-11.4.5.107 nvidia-cusparse-cu12-12.1.0.106 nvidia-nccl-cu12-2.20.5 nvidia-nvjitlink-cu12-12.5.40 nvidia-nvtx-cu12-12.1.105\n"
          ]
        }
      ],
      "source": [
        "!pip install torch torchvision"
      ]
    },
    {
      "cell_type": "code",
      "source": [
        "!pip install torchinfo"
      ],
      "metadata": {
        "colab": {
          "base_uri": "https://localhost:8080/"
        },
        "id": "J1JxjRl6GN4b",
        "outputId": "41172f0b-6ec5-46b3-9327-bb74816fe12e"
      },
      "execution_count": null,
      "outputs": [
        {
          "output_type": "stream",
          "name": "stdout",
          "text": [
            "Collecting torchinfo\n",
            "  Downloading torchinfo-1.8.0-py3-none-any.whl (23 kB)\n",
            "Installing collected packages: torchinfo\n",
            "Successfully installed torchinfo-1.8.0\n"
          ]
        }
      ]
    },
    {
      "cell_type": "code",
      "source": [
        "import torch\n",
        "import torchvision\n",
        "import torchvision.transforms as transforms\n",
        "from torchvision import datasets, models, transforms\n",
        "import torch.nn as nn\n",
        "import torch.optim as optim\n",
        "from torch.optim import lr_scheduler"
      ],
      "metadata": {
        "id": "6F7gO5YKGQOn"
      },
      "execution_count": null,
      "outputs": []
    },
    {
      "cell_type": "code",
      "source": [
        "print(f'Torch version: {torch.__version__}')"
      ],
      "metadata": {
        "colab": {
          "base_uri": "https://localhost:8080/"
        },
        "id": "E0_Bg-HlGSUA",
        "outputId": "71d35d38-0eb3-45cb-e52e-7fc152c0a771"
      },
      "execution_count": null,
      "outputs": [
        {
          "output_type": "stream",
          "name": "stdout",
          "text": [
            "Torch version: 2.3.0+cu121\n"
          ]
        }
      ]
    },
    {
      "cell_type": "code",
      "source": [
        "from google.colab import drive\n",
        "drive.mount('/content/drive')"
      ],
      "metadata": {
        "colab": {
          "base_uri": "https://localhost:8080/"
        },
        "id": "o9uYGyFLGUw3",
        "outputId": "035d8df6-5f60-42ee-cbe9-9217f01f2221"
      },
      "execution_count": null,
      "outputs": [
        {
          "output_type": "stream",
          "name": "stdout",
          "text": [
            "Mounted at /content/drive\n"
          ]
        }
      ]
    },
    {
      "cell_type": "code",
      "source": [
        "# mean and std according to https://pytorch.org/vision/main/models/generated/torchvision.models.efficientnet_b0.html#torchvision.models.EfficientNet_B0_Weights\n",
        "mean = [0.485, 0.456, 0.406]\n",
        "std = [0.229, 0.224, 0.225]"
      ],
      "metadata": {
        "id": "9EtfBbi8GYks"
      },
      "execution_count": null,
      "outputs": []
    },
    {
      "cell_type": "code",
      "source": [
        "train_transform = transforms.Compose([\n",
        "                                transforms.Resize(256),\n",
        "                                transforms.RandomResizedCrop(224),\n",
        "                                transforms.RandomHorizontalFlip(),\n",
        "                                transforms.ToTensor(),\n",
        "                                transforms.Normalize(mean, std)])\n",
        "\n",
        "test_transform = transforms.Compose([\n",
        "                                transforms.Resize(256),\n",
        "                                transforms.CenterCrop(224),\n",
        "                                transforms.ToTensor(),\n",
        "                                transforms.Normalize(mean, std)])"
      ],
      "metadata": {
        "id": "YDk7LQbDG9mv"
      },
      "execution_count": null,
      "outputs": []
    },
    {
      "cell_type": "code",
      "source": [
        "trainset = torchvision.datasets.Food101(root='./drive/My Drive/efficientnet_b0/datasets',\n",
        "                                        split ='train',\n",
        "                                        download=True,\n",
        "                                        transform=train_transform)"
      ],
      "metadata": {
        "colab": {
          "base_uri": "https://localhost:8080/"
        },
        "id": "RU4IDq8YHN5z",
        "outputId": "6333ec8f-0904-406f-facb-cafc872b5d19"
      },
      "execution_count": null,
      "outputs": [
        {
          "output_type": "stream",
          "name": "stdout",
          "text": [
            "Downloading https://data.vision.ee.ethz.ch/cvl/food-101.tar.gz to ./drive/My Drive/efficientnet_b0/datasets/food-101.tar.gz\n"
          ]
        },
        {
          "output_type": "stream",
          "name": "stderr",
          "text": [
            "100%|██████████| 4996278331/4996278331 [08:18<00:00, 10022293.82it/s]\n"
          ]
        },
        {
          "output_type": "stream",
          "name": "stdout",
          "text": [
            "Extracting ./drive/My Drive/efficientnet_b0/datasets/food-101.tar.gz to ./drive/My Drive/efficientnet_b0/datasets\n"
          ]
        }
      ]
    },
    {
      "cell_type": "code",
      "source": [
        "testset = torchvision.datasets.Food101(root='./drive/My Drive/efficientnet_b0/datasets',\n",
        "                                       split='test',\n",
        "                                       download=True,\n",
        "                                       transform=train_transform)"
      ],
      "metadata": {
        "id": "3t0y8dtQHVbN"
      },
      "execution_count": null,
      "outputs": []
    },
    {
      "cell_type": "code",
      "source": [
        "batch_size = 250\n",
        "num_workers = 2"
      ],
      "metadata": {
        "id": "zYqxAYlaHrEa"
      },
      "execution_count": null,
      "outputs": []
    },
    {
      "cell_type": "code",
      "source": [
        "trainloader = torch.utils.data.DataLoader(trainset,\n",
        "                                          batch_size=batch_size,\n",
        "                                          shuffle=True,\n",
        "                                          num_workers=num_workers)"
      ],
      "metadata": {
        "id": "jlERkFLlHtbH"
      },
      "execution_count": null,
      "outputs": []
    },
    {
      "cell_type": "code",
      "source": [
        "testloader = torch.utils.data.DataLoader(testset,\n",
        "                                         batch_size=batch_size,\n",
        "                                         shuffle=False,\n",
        "                                         num_workers=num_workers)"
      ],
      "metadata": {
        "id": "FZwB84YVHyTw"
      },
      "execution_count": null,
      "outputs": []
    },
    {
      "cell_type": "code",
      "source": [
        "print(trainset.classes)"
      ],
      "metadata": {
        "colab": {
          "base_uri": "https://localhost:8080/"
        },
        "id": "cupxj9A6H0sH",
        "outputId": "b9dc2c62-f332-4470-dc2c-f45c5da78af9"
      },
      "execution_count": null,
      "outputs": [
        {
          "output_type": "stream",
          "name": "stdout",
          "text": [
            "['apple_pie', 'baby_back_ribs', 'baklava', 'beef_carpaccio', 'beef_tartare', 'beet_salad', 'beignets', 'bibimbap', 'bread_pudding', 'breakfast_burrito', 'bruschetta', 'caesar_salad', 'cannoli', 'caprese_salad', 'carrot_cake', 'ceviche', 'cheese_plate', 'cheesecake', 'chicken_curry', 'chicken_quesadilla', 'chicken_wings', 'chocolate_cake', 'chocolate_mousse', 'churros', 'clam_chowder', 'club_sandwich', 'crab_cakes', 'creme_brulee', 'croque_madame', 'cup_cakes', 'deviled_eggs', 'donuts', 'dumplings', 'edamame', 'eggs_benedict', 'escargots', 'falafel', 'filet_mignon', 'fish_and_chips', 'foie_gras', 'french_fries', 'french_onion_soup', 'french_toast', 'fried_calamari', 'fried_rice', 'frozen_yogurt', 'garlic_bread', 'gnocchi', 'greek_salad', 'grilled_cheese_sandwich', 'grilled_salmon', 'guacamole', 'gyoza', 'hamburger', 'hot_and_sour_soup', 'hot_dog', 'huevos_rancheros', 'hummus', 'ice_cream', 'lasagna', 'lobster_bisque', 'lobster_roll_sandwich', 'macaroni_and_cheese', 'macarons', 'miso_soup', 'mussels', 'nachos', 'omelette', 'onion_rings', 'oysters', 'pad_thai', 'paella', 'pancakes', 'panna_cotta', 'peking_duck', 'pho', 'pizza', 'pork_chop', 'poutine', 'prime_rib', 'pulled_pork_sandwich', 'ramen', 'ravioli', 'red_velvet_cake', 'risotto', 'samosa', 'sashimi', 'scallops', 'seaweed_salad', 'shrimp_and_grits', 'spaghetti_bolognese', 'spaghetti_carbonara', 'spring_rolls', 'steak', 'strawberry_shortcake', 'sushi', 'tacos', 'takoyaki', 'tiramisu', 'tuna_tartare', 'waffles']\n"
          ]
        }
      ]
    },
    {
      "cell_type": "code",
      "source": [
        "model = models.efficientnet_b0(weights='DEFAULT')"
      ],
      "metadata": {
        "id": "pK26uM5aH5vN"
      },
      "execution_count": null,
      "outputs": []
    },
    {
      "cell_type": "code",
      "source": [
        "from torchinfo import summary\n",
        "summary(model)"
      ],
      "metadata": {
        "colab": {
          "base_uri": "https://localhost:8080/"
        },
        "id": "MKmJmQUGIy8t",
        "outputId": "da312b1c-07cd-40b7-a047-4467bcb55570"
      },
      "execution_count": null,
      "outputs": [
        {
          "output_type": "execute_result",
          "data": {
            "text/plain": [
              "================================================================================\n",
              "Layer (type:depth-idx)                                  Param #\n",
              "================================================================================\n",
              "EfficientNet                                            --\n",
              "├─Sequential: 1-1                                       --\n",
              "│    └─Conv2dNormActivation: 2-1                        --\n",
              "│    │    └─Conv2d: 3-1                                 864\n",
              "│    │    └─BatchNorm2d: 3-2                            64\n",
              "│    │    └─SiLU: 3-3                                   --\n",
              "│    └─Sequential: 2-2                                  --\n",
              "│    │    └─MBConv: 3-4                                 1,448\n",
              "│    └─Sequential: 2-3                                  --\n",
              "│    │    └─MBConv: 3-5                                 6,004\n",
              "│    │    └─MBConv: 3-6                                 10,710\n",
              "│    └─Sequential: 2-4                                  --\n",
              "│    │    └─MBConv: 3-7                                 15,350\n",
              "│    │    └─MBConv: 3-8                                 31,290\n",
              "│    └─Sequential: 2-5                                  --\n",
              "│    │    └─MBConv: 3-9                                 37,130\n",
              "│    │    └─MBConv: 3-10                                102,900\n",
              "│    │    └─MBConv: 3-11                                102,900\n",
              "│    └─Sequential: 2-6                                  --\n",
              "│    │    └─MBConv: 3-12                                126,004\n",
              "│    │    └─MBConv: 3-13                                208,572\n",
              "│    │    └─MBConv: 3-14                                208,572\n",
              "│    └─Sequential: 2-7                                  --\n",
              "│    │    └─MBConv: 3-15                                262,492\n",
              "│    │    └─MBConv: 3-16                                587,952\n",
              "│    │    └─MBConv: 3-17                                587,952\n",
              "│    │    └─MBConv: 3-18                                587,952\n",
              "│    └─Sequential: 2-8                                  --\n",
              "│    │    └─MBConv: 3-19                                717,232\n",
              "│    └─Conv2dNormActivation: 2-9                        --\n",
              "│    │    └─Conv2d: 3-20                                409,600\n",
              "│    │    └─BatchNorm2d: 3-21                           2,560\n",
              "│    │    └─SiLU: 3-22                                  --\n",
              "├─AdaptiveAvgPool2d: 1-2                                --\n",
              "├─Sequential: 1-3                                       --\n",
              "│    └─Dropout: 2-10                                    --\n",
              "│    └─Linear: 2-11                                     1,281,000\n",
              "================================================================================\n",
              "Total params: 5,288,548\n",
              "Trainable params: 5,288,548\n",
              "Non-trainable params: 0\n",
              "================================================================================"
            ]
          },
          "metadata": {},
          "execution_count": 88
        }
      ]
    },
    {
      "cell_type": "code",
      "source": [
        "num_features = model.classifier[1].in_features\n",
        "print(f'The number of features on the pretrained model: {num_features}')"
      ],
      "metadata": {
        "colab": {
          "base_uri": "https://localhost:8080/"
        },
        "id": "OV07MjWlI7ZB",
        "outputId": "89037746-5714-46c3-e3ef-58f2c4b2819f"
      },
      "execution_count": null,
      "outputs": [
        {
          "output_type": "stream",
          "name": "stdout",
          "text": [
            "The number of features on the pretrained model: 1280\n"
          ]
        }
      ]
    },
    {
      "cell_type": "code",
      "source": [
        "num_food_classes = len(trainset.classes)\n",
        "model.fc = nn.Linear(num_features, num_food_classes)"
      ],
      "metadata": {
        "id": "cC7ecAbuI8Tn"
      },
      "execution_count": null,
      "outputs": []
    },
    {
      "cell_type": "code",
      "source": [
        "learning_rate = 0.001\n",
        "optimizer = optim.Adam(model.parameters(),\n",
        "                       lr=learning_rate)"
      ],
      "metadata": {
        "id": "mqVswly5I-3G"
      },
      "execution_count": null,
      "outputs": []
    },
    {
      "cell_type": "code",
      "source": [
        "exp_lr_scheduler = lr_scheduler.StepLR(optimizer,\n",
        "                                       step_size=10,\n",
        "                                       gamma=0.9)"
      ],
      "metadata": {
        "id": "KIYzXUGmJCga"
      },
      "execution_count": null,
      "outputs": []
    },
    {
      "cell_type": "code",
      "source": [
        "criterion = nn.CrossEntropyLoss()"
      ],
      "metadata": {
        "id": "R0vjomndJFHp"
      },
      "execution_count": null,
      "outputs": []
    },
    {
      "cell_type": "code",
      "source": [
        "device = 'cuda' if torch.cuda.is_available() else 'cpu'\n",
        "device"
      ],
      "metadata": {
        "colab": {
          "base_uri": "https://localhost:8080/",
          "height": 35
        },
        "id": "nDGrI0u9JG-u",
        "outputId": "b46cb431-97c0-4de4-9232-e5567167cbb9"
      },
      "execution_count": null,
      "outputs": [
        {
          "output_type": "execute_result",
          "data": {
            "text/plain": [
              "'cuda'"
            ],
            "application/vnd.google.colaboratory.intrinsic+json": {
              "type": "string"
            }
          },
          "metadata": {},
          "execution_count": 94
        }
      ]
    },
    {
      "cell_type": "code",
      "source": [
        "def compute_average_validation_loss_and_accuracy(model,\n",
        "                                    testloader,\n",
        "                                    criterion,\n",
        "                                    device):\n",
        "  model.eval()\n",
        "  val_loss = 0.0\n",
        "  correct= 0\n",
        "  total = 0\n",
        "  with torch.no_grad():\n",
        "    for inputs, labels in testloader:\n",
        "      inputs, labels = inputs.to(device), labels.to(device)\n",
        "\n",
        "      outputs = model(inputs)\n",
        "      loss = criterion(outputs, labels)\n",
        "      val_loss += loss.item() * inputs.size(0)\n",
        "\n",
        "      _, predicted = torch.max(outputs, 1)\n",
        "      total += labels.size(0)\n",
        "      correct += (predicted == labels).sum().item()\n",
        "  average_val_loss = val_loss / len(testloader.dataset)\n",
        "  accuracy = correct/total\n",
        "  return (average_val_loss, accuracy)"
      ],
      "metadata": {
        "id": "Yq1pzbO7JLGY"
      },
      "execution_count": null,
      "outputs": []
    },
    {
      "cell_type": "code",
      "source": [
        "def show_loss_and_accuracy_details(epoch_number,\n",
        "                                   total_number_epochs,\n",
        "                                   model,\n",
        "                                   testloader,\n",
        "                                   criterion,\n",
        "                                   device):\n",
        "  average_val_loss, accuracy = compute_average_validation_loss_and_accuracy(model, testloader, criterion, device)\n",
        "  print(f'Epoch [{epoch+1}/{total_number_epochs}], Validation Loss: {average_val_loss:.4f}, Accuracy: {accuracy:.4f}')"
      ],
      "metadata": {
        "id": "gS0HZjeiJMAV"
      },
      "execution_count": null,
      "outputs": []
    },
    {
      "cell_type": "code",
      "source": [
        "def save_checkpoint_model(epoch,\n",
        "                          model_state_dict,\n",
        "                          optimizer_state_dict,\n",
        "                          loss,\n",
        "                          checkpoint_path):\n",
        "  checkpoint_path = f'{checkpoint_path}model{epoch}.pt'\n",
        "  torch.save({\n",
        "      'epoch': epoch,\n",
        "      'model_state_dict': model_state_dict,\n",
        "      'optimizer_state_dict': optimizer_state_dict,\n",
        "      'loss': loss\n",
        "  }, checkpoint_path)"
      ],
      "metadata": {
        "id": "eYhHnvSPJO09"
      },
      "execution_count": null,
      "outputs": []
    },
    {
      "cell_type": "code",
      "source": [
        "checkpoint_path = './drive/My Drive/efficientnet_b0/checkpoints/'"
      ],
      "metadata": {
        "id": "L3-Q67-zJSa6"
      },
      "execution_count": null,
      "outputs": []
    },
    {
      "cell_type": "code",
      "source": [
        "num_training_epochs = 50"
      ],
      "metadata": {
        "id": "hfcJFOIoJa_0"
      },
      "execution_count": null,
      "outputs": []
    },
    {
      "cell_type": "code",
      "source": [
        "model.to(device)\n",
        "for epoch in range(num_training_epochs):\n",
        "  print(f'Training - epoch {epoch + 1}.')\n",
        "\n",
        "  model.train()\n",
        "  for inputs, labels in trainloader:\n",
        "    inputs, labels = inputs.to(device), labels.to(device)\n",
        "\n",
        "    optimizer.zero_grad()\n",
        "    outputs = model(inputs)\n",
        "    loss = criterion(outputs, labels)\n",
        "    loss.backward()\n",
        "    optimizer.step()\n",
        "\n",
        "  if(epoch % 3 == 0):\n",
        "    save_checkpoint_model(epoch, model.state_dict(), optimizer.state_dict(), loss, checkpoint_path)\n",
        "    show_loss_and_accuracy_details(epoch, num_training_epochs, model, testloader, criterion, device)"
      ],
      "metadata": {
        "colab": {
          "base_uri": "https://localhost:8080/"
        },
        "id": "7MMpEzlaJfaz",
        "outputId": "b0ab4060-907c-44f0-a042-a9f6066b13d4"
      },
      "execution_count": null,
      "outputs": [
        {
          "output_type": "stream",
          "name": "stdout",
          "text": [
            "Training - epoch 1.\n",
            "Epoch [1/50], Validation Loss: 1.2605, Accuracy: 0.6716\n",
            "Training - epoch 2.\n",
            "Training - epoch 3.\n",
            "Training - epoch 4.\n",
            "Epoch [4/50], Validation Loss: 0.9264, Accuracy: 0.7527\n",
            "Training - epoch 5.\n",
            "Training - epoch 6.\n",
            "Training - epoch 7.\n",
            "Epoch [7/50], Validation Loss: 0.8644, Accuracy: 0.7702\n",
            "Training - epoch 8.\n",
            "Training - epoch 9.\n",
            "Training - epoch 10.\n",
            "Epoch [10/50], Validation Loss: 0.8410, Accuracy: 0.7752\n",
            "Training - epoch 11.\n",
            "Training - epoch 12.\n",
            "Training - epoch 13.\n",
            "Epoch [13/50], Validation Loss: 0.8409, Accuracy: 0.7800\n",
            "Training - epoch 14.\n",
            "Training - epoch 15.\n",
            "Training - epoch 16.\n",
            "Epoch [16/50], Validation Loss: 0.8309, Accuracy: 0.7880\n",
            "Training - epoch 17.\n",
            "Training - epoch 18.\n",
            "Training - epoch 19.\n",
            "Epoch [19/50], Validation Loss: 0.8437, Accuracy: 0.7881\n",
            "Training - epoch 20.\n",
            "Training - epoch 21.\n",
            "Training - epoch 22.\n",
            "Epoch [22/50], Validation Loss: 0.8529, Accuracy: 0.7872\n",
            "Training - epoch 23.\n",
            "Training - epoch 24.\n",
            "Training - epoch 25.\n",
            "Epoch [25/50], Validation Loss: 0.8446, Accuracy: 0.7924\n",
            "Training - epoch 26.\n",
            "Training - epoch 27.\n",
            "Training - epoch 28.\n",
            "Epoch [28/50], Validation Loss: 0.8809, Accuracy: 0.7862\n",
            "Training - epoch 29.\n",
            "Training - epoch 30.\n",
            "Training - epoch 31.\n",
            "Epoch [31/50], Validation Loss: 0.8849, Accuracy: 0.7864\n",
            "Training - epoch 32.\n",
            "Training - epoch 33.\n",
            "Training - epoch 34.\n",
            "Epoch [34/50], Validation Loss: 0.8519, Accuracy: 0.7911\n",
            "Training - epoch 35.\n",
            "Training - epoch 36.\n",
            "Training - epoch 37.\n",
            "Epoch [37/50], Validation Loss: 0.8607, Accuracy: 0.7927\n",
            "Training - epoch 38.\n",
            "Training - epoch 39.\n",
            "Training - epoch 40.\n",
            "Epoch [40/50], Validation Loss: 0.8876, Accuracy: 0.7864\n",
            "Training - epoch 41.\n",
            "Training - epoch 42.\n",
            "Training - epoch 43.\n",
            "Epoch [43/50], Validation Loss: 0.9087, Accuracy: 0.7909\n",
            "Training - epoch 44.\n",
            "Training - epoch 45.\n",
            "Training - epoch 46.\n",
            "Epoch [46/50], Validation Loss: 0.8785, Accuracy: 0.7964\n",
            "Training - epoch 47.\n",
            "Training - epoch 48.\n",
            "Training - epoch 49.\n",
            "Epoch [49/50], Validation Loss: 0.9090, Accuracy: 0.7918\n",
            "Training - epoch 50.\n"
          ]
        }
      ]
    },
    {
      "cell_type": "code",
      "source": [
        "model.eval()\n",
        "with torch.no_grad():\n",
        "  _ , accuracy = compute_average_validation_loss_and_accuracy(model, testloader, criterion, device)\n",
        "  print(f'Accuracy of the model on the test images: {accuracy*100:.4f}')"
      ],
      "metadata": {
        "id": "1MorKf5IJjcw",
        "colab": {
          "base_uri": "https://localhost:8080/"
        },
        "outputId": "0d8d975b-861f-4193-95cf-bfa514032a74"
      },
      "execution_count": null,
      "outputs": [
        {
          "output_type": "stream",
          "name": "stdout",
          "text": [
            "Accuracy of the model on the test images: 78.6931\n"
          ]
        }
      ]
    },
    {
      "cell_type": "code",
      "source": [
        "torch.save(model, './drive/My Drive/efficientnet_b0/efficientnet_food101model.pt')"
      ],
      "metadata": {
        "id": "lRt_UMizJkR0"
      },
      "execution_count": null,
      "outputs": []
    },
    {
      "cell_type": "code",
      "source": [
        "!pip install onnx\n",
        "!pip install onnxscript"
      ],
      "metadata": {
        "id": "vdDKqUSHJoSI",
        "colab": {
          "base_uri": "https://localhost:8080/"
        },
        "outputId": "d687e808-596d-43e4-ac5b-af4107e70031"
      },
      "execution_count": null,
      "outputs": [
        {
          "output_type": "stream",
          "name": "stdout",
          "text": [
            "Collecting onnx\n",
            "  Downloading onnx-1.16.1-cp310-cp310-manylinux_2_17_x86_64.manylinux2014_x86_64.whl (15.9 MB)\n",
            "\u001b[2K     \u001b[90m━━━━━━━━━━━━━━━━━━━━━━━━━━━━━━━━━━━━━━━━\u001b[0m \u001b[32m15.9/15.9 MB\u001b[0m \u001b[31m83.2 MB/s\u001b[0m eta \u001b[36m0:00:00\u001b[0m\n",
            "\u001b[?25hRequirement already satisfied: numpy>=1.20 in /usr/local/lib/python3.10/dist-packages (from onnx) (1.25.2)\n",
            "Requirement already satisfied: protobuf>=3.20.2 in /usr/local/lib/python3.10/dist-packages (from onnx) (3.20.3)\n",
            "Installing collected packages: onnx\n",
            "Successfully installed onnx-1.16.1\n",
            "Collecting onnxscript\n",
            "  Downloading onnxscript-0.1.0.dev20240612-py3-none-any.whl (625 kB)\n",
            "\u001b[2K     \u001b[90m━━━━━━━━━━━━━━━━━━━━━━━━━━━━━━━━━━━━━━━━\u001b[0m \u001b[32m625.5/625.5 kB\u001b[0m \u001b[31m17.0 MB/s\u001b[0m eta \u001b[36m0:00:00\u001b[0m\n",
            "\u001b[?25hRequirement already satisfied: numpy in /usr/local/lib/python3.10/dist-packages (from onnxscript) (1.25.2)\n",
            "Requirement already satisfied: onnx>=1.16 in /usr/local/lib/python3.10/dist-packages (from onnxscript) (1.16.1)\n",
            "Requirement already satisfied: typing-extensions in /usr/local/lib/python3.10/dist-packages (from onnxscript) (4.12.1)\n",
            "Requirement already satisfied: ml-dtypes in /usr/local/lib/python3.10/dist-packages (from onnxscript) (0.2.0)\n",
            "Requirement already satisfied: protobuf>=3.20.2 in /usr/local/lib/python3.10/dist-packages (from onnx>=1.16->onnxscript) (3.20.3)\n",
            "Installing collected packages: onnxscript\n",
            "Successfully installed onnxscript-0.1.0.dev20240612\n"
          ]
        }
      ]
    },
    {
      "cell_type": "code",
      "source": [
        "sample_input = torch.randn(1, 3, 224, 224).cuda()\n",
        "\n",
        "onnx_file_path = \"./drive/My Drive/efficientnet_b0/efficientnet_food101model.onnx\"\n",
        "\n",
        "torch.onnx.export(model, sample_input, onnx_file_path)"
      ],
      "metadata": {
        "id": "0DpXEVL4JrA_"
      },
      "execution_count": null,
      "outputs": []
    },
    {
      "cell_type": "code",
      "source": [
        "!nvidia-smi"
      ],
      "metadata": {
        "colab": {
          "base_uri": "https://localhost:8080/"
        },
        "id": "IyzM5tDswXUR",
        "outputId": "f5abb5f3-ba36-4a4a-fb49-17abb4cd20e1"
      },
      "execution_count": null,
      "outputs": [
        {
          "output_type": "stream",
          "name": "stdout",
          "text": [
            "Wed Jun 12 18:41:53 2024       \n",
            "+---------------------------------------------------------------------------------------+\n",
            "| NVIDIA-SMI 535.104.05             Driver Version: 535.104.05   CUDA Version: 12.2     |\n",
            "|-----------------------------------------+----------------------+----------------------+\n",
            "| GPU  Name                 Persistence-M | Bus-Id        Disp.A | Volatile Uncorr. ECC |\n",
            "| Fan  Temp   Perf          Pwr:Usage/Cap |         Memory-Usage | GPU-Util  Compute M. |\n",
            "|                                         |                      |               MIG M. |\n",
            "|=========================================+======================+======================|\n",
            "|   0  NVIDIA A100-SXM4-40GB          Off | 00000000:00:04.0 Off |                    0 |\n",
            "| N/A   36C    P0              55W / 400W |  28817MiB / 40960MiB |      0%      Default |\n",
            "|                                         |                      |             Disabled |\n",
            "+-----------------------------------------+----------------------+----------------------+\n",
            "                                                                                         \n",
            "+---------------------------------------------------------------------------------------+\n",
            "| Processes:                                                                            |\n",
            "|  GPU   GI   CI        PID   Type   Process name                            GPU Memory |\n",
            "|        ID   ID                                                             Usage      |\n",
            "|=======================================================================================|\n",
            "+---------------------------------------------------------------------------------------+\n"
          ]
        }
      ]
    },
    {
      "cell_type": "code",
      "source": [],
      "metadata": {
        "id": "o8eRPovdwaXM"
      },
      "execution_count": null,
      "outputs": []
    }
  ]
}